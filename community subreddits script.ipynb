{
 "cells": [
  {
   "cell_type": "code",
   "execution_count": 1,
   "metadata": {
    "collapsed": true
   },
   "outputs": [],
   "source": [
    "import os\n",
    "import pickle\n",
    "import bz2\n",
    "import json"
   ]
  },
  {
   "cell_type": "code",
   "execution_count": 3,
   "metadata": {},
   "outputs": [],
   "source": [
    "with open(\"threadcomm.pickle\",'r') as f:\n",
    "    threadcomm = pickle.load(f)"
   ]
  },
  {
   "cell_type": "code",
   "execution_count": null,
   "metadata": {
    "collapsed": true
   },
   "outputs": [],
   "source": [
    "#For every file\n",
    "    #Load each document\n",
    "    #If the thread matches the one in the record\n",
    "    #Put it into the aggregator with the label\n",
    "\n",
    "comm_subreddits = []\n",
    "\n",
    "#Pull user data based on subreddit\n",
    "for filename in os.listdir(\"reddit_data/reddit_bzs/\"):\n",
    "    print filename\n",
    "    monthvar = {}\n",
    "    with bz2.BZ2File(\"reddit_data/reddit_bzs/\"+filename,'rb') as f:\n",
    "        for line in f:\n",
    "            doc = json.loads(line)\n",
    "            #Checking every community\n",
    "            for month in threadcomm:\n",
    "                for comm in month:\n",
    "                    if comm not in monthvar:\n",
    "                        monthvar[comm] = {}\n",
    "                    for threadname in month[comm]:\n",
    "                        if doc['parent_id']==threadname:\n",
    "                            if doc['subreddit'] not in monthvar[comm]:\n",
    "                                monthvar[comm][doc['subreddit']] = 0\n",
    "                            monthvar[comm][doc['subreddit']] += 1\n",
    "    comm_subreddits.append(monthvar)"
   ]
  }
 ],
 "metadata": {
  "kernelspec": {
   "display_name": "Python 2",
   "language": "python",
   "name": "python2"
  },
  "language_info": {
   "codemirror_mode": {
    "name": "ipython",
    "version": 2
   },
   "file_extension": ".py",
   "mimetype": "text/x-python",
   "name": "python",
   "nbconvert_exporter": "python",
   "pygments_lexer": "ipython2",
   "version": "2.7.12"
  }
 },
 "nbformat": 4,
 "nbformat_minor": 2
}
