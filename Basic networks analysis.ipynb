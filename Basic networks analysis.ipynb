{
 "cells": [
  {
   "cell_type": "code",
   "execution_count": 1,
   "metadata": {
    "collapsed": true
   },
   "outputs": [],
   "source": [
    "import pickle\n",
    "import networkx as nx\n",
    "import numpy as np\n",
    "from matplotlib import pyplot as plt\n",
    "from tqdm import tqdm\n",
    "from collections import Counter\n",
    "from itertools import combinations\n",
    "import community\n",
    "import pandas as pd\n",
    "import os\n",
    "import bz2\n",
    "import json\n",
    "from random import sample"
   ]
  },
  {
   "cell_type": "code",
   "execution_count": 3,
   "metadata": {
    "collapsed": true
   },
   "outputs": [],
   "source": [
    "with open(\"EoBoR_linklistlist.pickle\",'rb') as f:\n",
    "    linklist = pickle.load(f)    \n",
    "#2016-12, 2017-01, 2017-02, 2017-03"
   ]
  },
  {
   "cell_type": "markdown",
   "metadata": {},
   "source": [
    "`filenamevar` determines what the filename extension is, for simple version control (consider learning how to do this in git more effectively in the future). \n",
    "\n",
    "| Value  | Meaning                                                                                                          |\n",
    "|--------|------------------------------------------------------------------------------------------------------------------|\n",
    "| [None] | Networks are constructed from subreddit data where nodes are users and edges indicate >1 threads commented in common between the two users within that month.  |\n",
    "| excl   | Networks are constructed excluding the posts from subreddit itself.                                              |\n",
    "| excl3  | Networks are constructed with the conditions of `excl` with a threads-in-common threshold of 3 to create edges.  |"
   ]
  },
  {
   "cell_type": "code",
   "execution_count": 60,
   "metadata": {
    "collapsed": true
   },
   "outputs": [],
   "source": [
    "filenamevar = 'excl'"
   ]
  },
  {
   "cell_type": "code",
   "execution_count": null,
   "metadata": {
    "collapsed": true
   },
   "outputs": [],
   "source": [
    "# linklist_t = [{} for thing in linklist] #Transpose of the linklist to make it threads by user instead of users by thread\n",
    "# for i,month in tqdm(enumerate(linklist)):\n",
    "#     for thread in month:\n",
    "#         for user in month[thread]:\n",
    "#             if user not in linklist_t[i]:\n",
    "#                 linklist_t[i][user] = {}\n",
    "#             linklist_t[i][user][thread] = month[thread][user]"
   ]
  },
  {
   "cell_type": "code",
   "execution_count": 4,
   "metadata": {
    "collapsed": true
   },
   "outputs": [],
   "source": [
    "def networkByMonth(month):\n",
    "    threadchat = {}\n",
    "    smallthreadcount = 0\n",
    "    #Get all the instances where two people chatted in a thread\n",
    "    for thread in month:\n",
    "        if len(month[thread].keys())<=1:\n",
    "            smallthreadcount+=1\n",
    "            continue\n",
    "        for x,y in combinations(month[thread].keys(),2):\n",
    "            if str(\"%s,%s\"%(sorted([x,y])[0],sorted([x,y])[1])) not in threadchat:\n",
    "                threadchat[str(\"%s,%s\"%(sorted([x,y])[0],sorted([x,y])[1]))] = 0\n",
    "            threadchat[str(\"%s,%s\"%(sorted([x,y])[0],sorted([x,y])[1]))] += 1\n",
    "    print(\"%i of the %i threads had only one response.\"%(smallthreadcount,len(month)))\n",
    "    \n",
    "    g = nx.Graph()\n",
    "    for key in threadchat:\n",
    "        if threadchat[key]<=1:\n",
    "            continue\n",
    "        x,y = key.split(\",\")\n",
    "        g.add_edge(x,y,weight=threadchat[key])\n",
    "    return g"
   ]
  },
  {
   "cell_type": "code",
   "execution_count": 7,
   "metadata": {},
   "outputs": [
    {
     "name": "stdout",
     "output_type": "stream",
     "text": [
      "220274 of the 232955 threads had only one response.\n",
      "267119 of the 279755 threads had only one response.\n",
      "206807 of the 212469 threads had only one response.\n",
      "202233 of the 207316 threads had only one response.\n"
     ]
    }
   ],
   "source": [
    "for i,month in enumerate(linklist):\n",
    "    g_month = networkByMonth(month)\n",
    "    with open(\"EoBoR_%i_%s.gexf\"%(i,filenamevar),'wb') as f:\n",
    "        nx.write_gexf(g_month,f)"
   ]
  },
  {
   "cell_type": "markdown",
   "metadata": {},
   "source": [
    "### Observations\n",
    "\n",
    "* It looks like the population of original users drop by half, and surprisingly the number of edges drops ten-fold. \n",
    " * 1280->570 nodes, 11k->1.8k edges. \n",
    "* Before the ban, it looks like there was two major communities, one homogeneous and one mixed, based on modularity class. Not sure why OpenOrd splits into those two groups, given that other methods don't do that. \n",
    "* After the ban, this structure looks similar but slightly broken? Maybe looking at assortativity would help. \n",
    "* Concerns about comparing networks with a completely different population. \n",
    "* A lot of edges occur in the subredddit. \n",
    " \n",
    "### Questions 1\n",
    "\n",
    "* Is there a correspondence between the communities between months? \n",
    "* How much overlap between populations?\n",
    "* Can you track which subreddits people went to?"
   ]
  },
  {
   "cell_type": "markdown",
   "metadata": {},
   "source": [
    "### How much overlap between populations across months?"
   ]
  },
  {
   "cell_type": "code",
   "execution_count": 8,
   "metadata": {
    "collapsed": true
   },
   "outputs": [],
   "source": [
    "networklist = [nx.read_gexf('EoBoR_%i_%s.gexf'%(i,filenamevar)) for i in range(4)]"
   ]
  },
  {
   "cell_type": "code",
   "execution_count": 9,
   "metadata": {
    "collapsed": true
   },
   "outputs": [],
   "source": [
    "usersets = [set(x.nodes()) for x in networklist]"
   ]
  },
  {
   "cell_type": "code",
   "execution_count": 10,
   "metadata": {},
   "outputs": [
    {
     "name": "stdout",
     "output_type": "stream",
     "text": [
      "Of the 1076 users in Dec16, 841 were found in Jan17.\n",
      "Of the 1280 users in Jan17, 474 were found in Feb17.\n",
      "Of the 570 users in Feb17, 355 were found in Mar17.\n"
     ]
    }
   ],
   "source": [
    "print(\"Of the %i users in Dec16, %i were found in Jan17.\"%(len(usersets[0]),len(usersets[0]&usersets[1])))\n",
    "print(\"Of the %i users in Jan17, %i were found in Feb17.\"%(len(usersets[1]),len(usersets[1]&usersets[2])))\n",
    "print(\"Of the %i users in Feb17, %i were found in Mar17.\"%(len(usersets[2]),len(usersets[2]&usersets[3])))"
   ]
  },
  {
   "cell_type": "markdown",
   "metadata": {},
   "source": [
    "### Is there a correspondence between communities across months?"
   ]
  },
  {
   "cell_type": "code",
   "execution_count": 11,
   "metadata": {
    "collapsed": true
   },
   "outputs": [],
   "source": [
    "partitions = [community.best_partition(x) for x in networklist]"
   ]
  },
  {
   "cell_type": "code",
   "execution_count": 12,
   "metadata": {},
   "outputs": [
    {
     "data": {
      "text/plain": [
       "[[(0, 445), (1, 392), (2, 138), (3, 33), (5, 32)],\n",
       " [(0, 495), (1, 420), (5, 151), (3, 124), (2, 69)],\n",
       " [(1, 215), (5, 91), (2, 62), (8, 59), (6, 39)],\n",
       " [(5, 125), (1, 103), (2, 70), (7, 69), (0, 44)]]"
      ]
     },
     "execution_count": 12,
     "metadata": {},
     "output_type": "execute_result"
    }
   ],
   "source": [
    "#Top 5 largest communities\n",
    "top5comms = [sorted(list(enumerate([partitions[i].values().count(comm) for comm in range(max(partitions[i].values()))])), key=lambda x: x[1], reverse = True)[0:5] for i in range(len(partitions))]\n",
    "top5comms"
   ]
  },
  {
   "cell_type": "markdown",
   "metadata": {},
   "source": [
    "So what I want this to do is to give me a the community with the best overlap for each community above\n",
    "\n",
    "for each of the largest communities in a given month network:\n",
    "    set of individuals in that community\n",
    "    take each of the other given month networks\n",
    "    for each top community in that network:\n",
    "        create sets of the users in those communities\n",
    "        Take the intersection for each of these with the original community\n",
    "        Report the one that accounts for the most original community users"
   ]
  },
  {
   "cell_type": "code",
   "execution_count": 13,
   "metadata": {
    "collapsed": true
   },
   "outputs": [],
   "source": [
    "def usersInComm(d,comm):\n",
    "    return set(k for k,v in d.items() if v==comm)\n",
    "\n",
    "def truncate(f, n):\n",
    "    '''Truncates/pads a float f to n decimal places without rounding'''\n",
    "    s = '{}'.format(f)\n",
    "    if 'e' in s or 'E' in s:\n",
    "        return '{0:.{1}f}'.format(f, n)\n",
    "    i, p, d = s.partition('.')\n",
    "    return '.'.join([i, (d+'0'*n)[:n]])"
   ]
  },
  {
   "cell_type": "code",
   "execution_count": 14,
   "metadata": {
    "collapsed": true
   },
   "outputs": [],
   "source": [
    "#Figure out which community has the most overlap\n",
    "the_dumbest_meta = nx.DiGraph()\n",
    "monthkey = {0: 'Dec', 1: 'Jan', 2: 'Feb', 3:'Mar'}\n",
    "\n",
    "for i,month in enumerate(top5comms):\n",
    "    for comm_num,comm_val in month:\n",
    "        #print \"Month %i, community number %i\"%(i,comm_num)\n",
    "        origin = monthkey[i]+str(comm_num)\n",
    "        original_community_set = usersInComm(partitions[i],comm_num)\n",
    "        for x in range(len(top5comms)):\n",
    "            #print x\n",
    "            results = []\n",
    "            for y in range(len(top5comms[x])):\n",
    "                test_community_set = usersInComm(partitions[x],top5comms[x][y][0])\n",
    "                diff = float(len(original_community_set & test_community_set))/len(original_community_set)\n",
    "                if 1>diff>=0.2:\n",
    "                    #results.append( (top5comms[x][y][0], truncate(diff,2)) )\n",
    "                    destination = monthkey[x]+str(top5comms[x][y][0])\n",
    "                    the_dumbest_meta.add_edge(origin,destination,weight=diff)"
   ]
  },
  {
   "cell_type": "code",
   "execution_count": 15,
   "metadata": {
    "collapsed": true
   },
   "outputs": [],
   "source": [
    "nx.write_gexf(the_dumbest_meta,'the_dumbest_meta_%s.gexf'%filenamevar)"
   ]
  },
  {
   "cell_type": "markdown",
   "metadata": {},
   "source": [
    "<img src=\"the_dumbest_meta2.png\">"
   ]
  },
  {
   "cell_type": "markdown",
   "metadata": {},
   "source": [
    "### Questions 2\n",
    "\n",
    "It seems like there's some correspondence between months. List of to-do: \n",
    "\n",
    "* Export modularity class from gephi and look at the cases of communities you see visually. \n",
    "* See the overlap between the community in question (comm-oq). \n",
    "\n",
    "List of questions:\n",
    "\n",
    "1. Is the dense weighted cluster consistent over time?\n",
    "2. Right now, you're comparing the out (posts not in the sub) before and after. This only answers the question \"Does removing this subreddit affect other communities?\". So you also need to compare the in and see whether the in+out(after_ban) = total(before_ban). \n",
    "3. ? To defend the idea that the community has changed, you can construct null configuration models before and after the network changes and then excise the same users that are lost across the ban date. Then you can see if the real networks are statistically different from the nulls. "
   ]
  },
  {
   "cell_type": "code",
   "execution_count": null,
   "metadata": {
    "collapsed": true
   },
   "outputs": [],
   "source": [
    "def gephiCommunityMapper(csv_filename, ntwk):\n",
    "    df = pd.read_csv(csv_filename)\n",
    "    mod_partitions = {x:df.get_value(df.loc[df['Label']==x].index[0],'modularity_class') for x in df['Label'].tolist()}\n",
    "        #df.loc[df['Label']==x].index[0]  <-- This part gets the index of the label (username) that you want\n",
    "        #df.get_value gets the thing at the row and column, where row has to be indexed row\n",
    "    nx.set_node_attributes(ntwk,'community',mod_partitions)\n",
    "    return ntwk"
   ]
  },
  {
   "cell_type": "code",
   "execution_count": null,
   "metadata": {
    "collapsed": true
   },
   "outputs": [],
   "source": [
    "gephimodfiles = ['dec2016_gephimod.csv','jan2017_gephimod.csv','feb2017_gephimod.csv','mar2017_gephimod.csv']"
   ]
  },
  {
   "cell_type": "code",
   "execution_count": null,
   "metadata": {
    "collapsed": true
   },
   "outputs": [],
   "source": [
    "gephinets = []\n",
    "for x,y in zip(gephimodfiles,networklist):\n",
    "    gephinets.append( gephiCommunityMapper(x,y) )"
   ]
  },
  {
   "cell_type": "code",
   "execution_count": null,
   "metadata": {
    "collapsed": true
   },
   "outputs": [],
   "source": [
    "comms_in_q = [8,14,14,12]\n",
    "gephinet_sets = []\n",
    "for i,thing in enumerate(gephinets):\n",
    "    gephinet_sets.append( set([x for x,y in nx.get_node_attributes(thing,'community').items() if y==comms_in_q[i]]) )"
   ]
  },
  {
   "cell_type": "code",
   "execution_count": null,
   "metadata": {
    "collapsed": true
   },
   "outputs": [],
   "source": [
    "for x in range(len(gephinet_sets)-1):\n",
    "    print \"Total number within the community for month %i\"%x\n",
    "    print len(gephinet_sets[x])\n",
    "    print \"Overlap with next month\"\n",
    "    print len(gephinet_sets[x] & gephinet_sets[x+1])"
   ]
  },
  {
   "cell_type": "markdown",
   "metadata": {},
   "source": [
    "### Findings from previous section\n",
    "\n",
    "When looking at the really connected part of the networks, 68/122 (55%) of the users are repeats from Dec to Jan, and 41/91 (45%) of the users are carry-overs from Jan to Feb. This is much greater than the overall carryover, so these are probably the same communities. \n",
    "\n",
    "If the community survived the ban, then they must be talking somewhere, so let's see where they are talking. "
   ]
  },
  {
   "cell_type": "code",
   "execution_count": null,
   "metadata": {
    "collapsed": true
   },
   "outputs": [],
   "source": [
    "max(nx.get_node_attributes(gephinets[0],'community').values())"
   ]
  },
  {
   "cell_type": "markdown",
   "metadata": {},
   "source": [
    "Get the threads that communities participated in"
   ]
  },
  {
   "cell_type": "code",
   "execution_count": null,
   "metadata": {
    "collapsed": true
   },
   "outputs": [],
   "source": [
    "users_in_comms_all = []\n",
    "\n",
    "for g in gephinets:\n",
    "    comms_in_net = []\n",
    "    commvals = nx.get_node_attributes(g,'community')\n",
    "    for i in range(max(commvals.values())):\n",
    "        comms_in_net.append(set([x for x,y in commvals.items() if y==i]))\n",
    "    users_in_comms_all.append(comms_in_net)"
   ]
  },
  {
   "cell_type": "code",
   "execution_count": null,
   "metadata": {
    "collapsed": true
   },
   "outputs": [],
   "source": [
    "#What threads correspond with each community?\n",
    "\n",
    "threadcomm = []\n",
    "\n",
    "for i, monthdata in enumerate(users_in_comms_all):\n",
    "    threadcommmonth = {}\n",
    "    for ct in tqdm(linklist[i]):\n",
    "        if len(linklist[i][ct].keys())>1:\n",
    "            for commnum in range(len(monthdata)):\n",
    "                if len(set(linklist[i][ct].keys()) & monthdata[commnum])>=2: #If more than two users from that community appeared in the thread\n",
    "                    if commnum not in threadcommmonth:\n",
    "                        threadcommmonth[commnum] = set({})\n",
    "                    threadcommmonth[commnum].add(ct)\n",
    "    threadcomm.append(threadcommmonth)"
   ]
  },
  {
   "cell_type": "code",
   "execution_count": null,
   "metadata": {
    "collapsed": true
   },
   "outputs": [],
   "source": [
    "threadcomm"
   ]
  },
  {
   "cell_type": "code",
   "execution_count": null,
   "metadata": {
    "collapsed": true
   },
   "outputs": [],
   "source": [
    "#For every file\n",
    "    #Load each document\n",
    "    #If the thread matches the one in the record\n",
    "    #Put it into the aggregator with the label\n",
    "\n",
    "comm_subreddits = []\n",
    "\n",
    "#Pull user data based on subreddit\n",
    "for i,filename in enumerate(os.listdir(\"reddit_data/reddit_bzs/\")):\n",
    "    print filename\n",
    "    monthvar = {}\n",
    "    month = threadcomm[i]\n",
    "    with bz2.BZ2File(\"reddit_data/reddit_bzs/\"+filename,'rb') as f:\n",
    "        for line in tqdm(f):\n",
    "            doc = json.loads(line)\n",
    "            #Checking every community\n",
    "            #for month in threadcomm:\n",
    "            for comm in month:\n",
    "                if comm not in monthvar:\n",
    "                    monthvar[comm] = {}\n",
    "                for threadname in month[comm]:\n",
    "                    if doc['parent_id']==threadname:\n",
    "                        if doc['subreddit'] not in monthvar[comm]:\n",
    "                            monthvar[comm][doc['subreddit']] = 0\n",
    "                        monthvar[comm][doc['subreddit']] += 1\n",
    "    comm_subreddits.append(monthvar)"
   ]
  },
  {
   "cell_type": "code",
   "execution_count": null,
   "metadata": {
    "collapsed": true
   },
   "outputs": [],
   "source": [
    "with open(\"threadcomm.pickle\",'wb') as f:\n",
    "    pickle.dump(threadcomm,f)"
   ]
  },
  {
   "cell_type": "markdown",
   "metadata": {},
   "source": [
    "I ran the above on another computer. The results are in comm_subs.pickle. "
   ]
  },
  {
   "cell_type": "markdown",
   "metadata": {},
   "source": [
    "#### Analyzing comm_subs"
   ]
  },
  {
   "cell_type": "code",
   "execution_count": 16,
   "metadata": {
    "collapsed": true
   },
   "outputs": [],
   "source": [
    "with open(\"comm_subs.pickle\",'r') as f:\n",
    "    comm_subs = pickle.load(f)"
   ]
  },
  {
   "cell_type": "code",
   "execution_count": 31,
   "metadata": {},
   "outputs": [
    {
     "name": "stdout",
     "output_type": "stream",
     "text": [
      "The month is 0 =============================================================\n",
      "0\n",
      "(u'MGTOW', 2186), (u'The_Donald', 1307), (u'milliondollarextreme', 1083), (u'TheRedPill', 158), (u'uncensorednews', 148), \n",
      "\n",
      "1\n",
      "(u'news', 3718), (u'StarWars', 3409), \n",
      "\n",
      "2\n",
      "(u'Anarcho_Capitalism', 1303), (u'Libertarian', 860), (u'pics', 759), (u'The_Donald', 261), (u'DebateAltRight', 84), \n",
      "\n",
      "3\n",
      "(u'AskReddit', 9604), (u'worldnews', 1675), (u'MHOCMP', 693), (u'DebateFascism', 532), (u'PoliticalDiscussion', 531), \n",
      "\n",
      "4\n",
      "(u'nfl', 78634), (u'CFB', 21610), (u'detroitlions', 4312), (u'fantasyfootball', 3287), (u'movies', 1473), \n",
      "\n",
      "5\n",
      "(u'The_Donald', 132207), (u'AskReddit', 83133), (u'pcmasterrace', 39599), (u'MMA', 30826), (u'politics', 30007), \n",
      "\n",
      "6\n",
      "(u'worldnews', 154), (u'politics', 6), \n",
      "\n",
      "7\n",
      "(u'The_Donald', 1687), (u'metacanada', 721), (u'worldnews', 704), (u'CringeAnarchy', 126), (u'canada', 89), \n",
      "\n",
      "8\n",
      "(u'AskReddit', 10821), (u'DebateAltRight', 4037), (u'politics', 3053), (u'The_Donald', 3039), (u'videos', 2993), \n",
      "\n",
      "9\n",
      "(u'TumblrInAction', 6), \n",
      "\n",
      "10\n",
      "(u'opieandanthony', 159), \n",
      "\n",
      "11\n",
      "(u'TheRedPill', 146), \n",
      "\n",
      "12\n",
      "(u'norge', 25), \n",
      "\n",
      "13\n",
      "(u'AskReddit', 314137), (u'politics', 55418), (u'worldnews', 35278), (u'pics', 28590), (u'pcmasterrace', 26868), \n",
      "\n",
      "14\n",
      "(u'redditrequest', 6), (u'MensRights', 4), \n",
      "\n",
      "15\n",
      "(u'canada', 158), (u'The_Donald', 84), \n",
      "\n",
      "16\n",
      "(u'The_Donald', 13), \n",
      "\n",
      "17\n",
      "(u'politics', 209), (u'television', 12), \n",
      "\n",
      "18\n",
      "(u'australia', 49), \n",
      "\n",
      "The month is 1 =============================================================\n",
      "0\n",
      "(u'norge', 15), \n",
      "\n",
      "1\n",
      "(u'GlobalOffensive', 1455), \n",
      "\n",
      "2\n",
      "(u'samharris', 53), \n",
      "\n",
      "3\n",
      "(u'Cricket', 7089), \n",
      "\n",
      "4\n",
      "(u'DarkEnlightenment', 6), \n",
      "\n",
      "5\n",
      "(u'milliondollarextreme', 481), \n",
      "\n",
      "6\n",
      "(u'nfl', 233556), (u'AskReddit', 171240), (u'politics', 89002), (u'worldnews', 57254), (u'SquaredCircle', 48834), \n",
      "\n",
      "7\n",
      "(u'worldnews', 1909), (u'pics', 1571), (u'ukpolitics', 425), (u'MHOCMP', 386), (u'soccer', 367), \n",
      "\n",
      "8\n",
      "(u'AskTrumpSupporters', 24), \n",
      "\n",
      "9\n",
      "(u'The_Donald', 165863), (u'AskReddit', 103095), (u'politics', 41384), (u'nfl', 41339), (u'news', 29536), \n",
      "\n",
      "10\n",
      "(u'fireblast168', 238), (u'funny', 2), \n",
      "\n",
      "11\n",
      "(u'AskReddit', 11755), (u'blog', 5938), (u'The_Donald', 3370), (u'pics', 3242), (u'Futurology', 1340), \n",
      "\n",
      "12\n",
      "(u'powerlifting', 41), \n",
      "\n",
      "13\n",
      "(u'IAmA', 4798), (u'pics', 2019), (u'TwoXChromosomes', 1446), (u'news', 1021), (u'The_Donald', 606), \n",
      "\n",
      "14\n",
      "(u'blog', 5938), (u'worldnews', 4918), (u'IAmA', 4798), (u'DebateAltRight', 3336), (u'todayilearned', 2367), \n",
      "\n",
      "15\n",
      "(u'The_Donald', 13), \n",
      "\n",
      "16\n",
      "(u'blog', 5938), (u'news', 5540), (u'IAmA', 4798), (u'detroitlions', 3295), (u'MGTOW', 2499), \n",
      "\n",
      "17\n",
      "(u'AskReddit', 256854), (u'The_Donald', 15425), (u'pics', 11130), (u'news', 10426), (u'hockey', 8386), \n",
      "\n",
      "18\n",
      "(u'bakchodi', 7), \n",
      "\n",
      "19\n",
      "(u'cringe', 181), \n",
      "\n",
      "20\n",
      "(u'The_Donald', 10104), \n",
      "\n",
      "21\n",
      "(u'fuckthepolice', 6), \n",
      "\n",
      "The month is 2 =============================================================\n",
      "0\n",
      "(u'MensRights', 23), (u'changemyview', 10), (u'pics', 2), \n",
      "\n",
      "1\n",
      "(u'AskReddit', 3731), (u'worldnews', 21), (u'europe', 16), (u'italy', 2), \n",
      "\n",
      "2\n",
      "(u'The_Europe', 6), \n",
      "\n",
      "3\n",
      "(u'Cricket', 8486), \n",
      "\n",
      "4\n",
      "(u'AskReddit', 157618), (u'nfl', 75593), (u'politics', 45038), (u'worldnews', 35456), (u'news', 31038), \n",
      "\n",
      "5\n",
      "(u'AskReddit', 18304), (u'IAmA', 11246), (u'reddevils', 4940), (u'CringeAnarchy', 2907), (u'todayilearned', 2847), \n",
      "\n",
      "6\n",
      "(u'conspiracy', 117), \n",
      "\n",
      "7\n",
      "(u'politics', 3097), (u'MGTOW', 2990), (u'pics', 1739), (u'Music', 1672), (u'uncensorednews', 1397), \n",
      "\n",
      "8\n",
      "(u'AskReddit', 16021), (u'metacanada', 857), (u'canada', 535), (u'The_Donald', 75), (u'RedEnsign', 31), \n",
      "\n",
      "9\n",
      "(u'The_Donald', 6), \n",
      "\n",
      "10\n",
      "(u'CringeAnarchy', 64), (u'PussyPass', 19), \n",
      "\n",
      "11\n",
      "(u'The_Donald', 118730), (u'nfl', 67746), (u'AskReddit', 40154), (u'millionairemakers', 22492), (u'politics', 15933), \n",
      "\n",
      "12\n",
      "(u'AskReddit', 5696), (u'DebateAltRight', 26), (u'conspiracy', 5), \n",
      "\n",
      "13\n",
      "(u'opieandanthony', 74), \n",
      "\n",
      "14\n",
      "(u'The_Donald', 5141), (u'AskReddit', 3172), (u'DebateAltRight', 2599), (u'pics', 1092), (u'europe', 1070), \n",
      "\n",
      "15\n",
      "(u'alternative_right', 4), \n",
      "\n",
      "16\n",
      "(u'changemyview', 18), \n",
      "\n",
      "17\n",
      "(u'AskReddit', 10152), (u'Anarcho_Capitalism', 1972), (u'Libertarian', 408), (u'politics', 405), (u'pics', 390), \n",
      "\n",
      "18\n",
      "(u'pics', 1147), (u'MHOCMP', 1027), (u'DebateFascism', 348), (u'OldSchoolCool', 237), (u'ukpolitics', 221), \n",
      "\n",
      "19\n",
      "(u'australia', 5), \n",
      "\n",
      "20\n",
      "(u'niceguys', 40), \n",
      "\n",
      "21\n",
      "(u'Incel', 7), \n",
      "\n",
      "The month is 3 =============================================================\n",
      "0\n",
      "(u'MensRights', 24), \n",
      "\n",
      "1\n",
      "(u'xboxone', 117382), (u'The_Donald', 114707), (u'AskReddit', 38292), (u'pics', 12165), (u'politics', 10863), \n",
      "\n",
      "2\n",
      "(u'EDC', 5), (u'Wildlands', 2), \n",
      "\n",
      "3\n",
      "(u'Cricket', 13149), \n",
      "\n",
      "4\n",
      "(u'The_Donald', 338), \n",
      "\n",
      "5\n",
      "(u'Denmark', 18), \n",
      "\n",
      "6\n",
      "(u'ak47', 18), \n",
      "\n",
      "7\n",
      "(u'metacanada', 299), (u'KotakuInAction', 177), (u'CringeAnarchy', 107), (u'canada', 27), (u'the_frauke', 8), \n",
      "\n",
      "8\n",
      "(u'me_irl', 9781), (u'dankmemes', 101), \n",
      "\n",
      "9\n",
      "(u'Anarcho_Capitalism', 920), (u'scifi', 480), (u'uncensorednews', 135), (u'PussyPass', 125), (u'Libertarian', 85), \n",
      "\n",
      "10\n",
      "(u'AskReddit', 177603), (u'Music', 10710), (u'CringeAnarchy', 7249), (u'aww', 2934), (u'movies', 2908), \n",
      "\n",
      "11\n",
      "(u'cats', 79), (u'Anarcho_Capitalism', 23), \n",
      "\n",
      "12\n",
      "(u'DebateAltRight', 2032), (u'pics', 1568), (u'politics', 1567), (u'DebateFascism', 949), (u'IAmA', 921), \n",
      "\n",
      "13\n",
      "(u'aww', 1526), (u'television', 607), \n",
      "\n",
      "14\n",
      "(u'Incels', 45), \n",
      "\n",
      "15\n",
      "(u'weekendgunnit', 10), \n",
      "\n",
      "16\n",
      "(u'asktrp', 16), (u'TheRedPill', 13), \n",
      "\n",
      "17\n",
      "(u'xboxone', 125860), (u'AskReddit', 101850), (u'politics', 42644), (u'worldnews', 21377), (u'pics', 20473), \n",
      "\n"
     ]
    }
   ],
   "source": [
    "for i,thing in enumerate(comm_subs):\n",
    "    print(\"The month is %i =============================================================\"%i)\n",
    "    for comm in thing:\n",
    "        print comm\n",
    "        #for sub in sorted(thing[comm].items(), key=lambda x: x[1],reverse=True)[0:5]:\n",
    "        #    print str(sub)+\",\",\n",
    "        if 'MGTOW' in thing[comm]:\n",
    "            print \"MGTOW\",\n",
    "            print thing[comm][MGTOW]\n",
    "        print \"\\n\""
   ]
  },
  {
   "cell_type": "code",
   "execution_count": 24,
   "metadata": {},
   "outputs": [
    {
     "data": {
      "text/plain": [
       "{u'australia': 49}"
      ]
     },
     "execution_count": 24,
     "metadata": {},
     "output_type": "execute_result"
    }
   ],
   "source": [
    "thing[comm]"
   ]
  },
  {
   "cell_type": "markdown",
   "metadata": {},
   "source": [
    "## Doing statistics\n",
    "\n",
    "The basic idea is that if the structure of the network changed drastically, then it should have very different network properties than a random subgraph of the previous month. "
   ]
  },
  {
   "cell_type": "code",
   "execution_count": 61,
   "metadata": {
    "collapsed": true
   },
   "outputs": [],
   "source": [
    "networklist = [nx.read_gexf('EoBoR_%i_%s.gexf'%(i,filenamevar)) for i in range(4)]"
   ]
  },
  {
   "cell_type": "code",
   "execution_count": 62,
   "metadata": {
    "collapsed": true
   },
   "outputs": [],
   "source": [
    "networklist_lens = [len(thing) for thing in networklist]"
   ]
  },
  {
   "cell_type": "code",
   "execution_count": 63,
   "metadata": {},
   "outputs": [
    {
     "data": {
      "text/plain": [
       "[729, 836, 570, 497]"
      ]
     },
     "execution_count": 63,
     "metadata": {},
     "output_type": "execute_result"
    }
   ],
   "source": [
    "networklist_lens"
   ]
  },
  {
   "cell_type": "code",
   "execution_count": 64,
   "metadata": {
    "collapsed": true
   },
   "outputs": [],
   "source": [
    "def subsample(g,trim_num):\n",
    "    if len(g)<=trim_num:\n",
    "        raise ValueError('Subgraph parameters are larger than the original graph.')\n",
    "    a = g.copy()\n",
    "    random_nodes = sample(a.nodes(),len(a)-trim_num)\n",
    "    a.remove_nodes_from(random_nodes)\n",
    "    return a\n",
    "\n",
    "def subsetTrials(orig,final,n_trials=100):\n",
    "    #betweenness = []\n",
    "    average_degree = []\n",
    "    diameter = []\n",
    "    #connected_components = []\n",
    "    #avg_shortest_path_len = []\n",
    "    #assortativity = []\n",
    "    density = []\n",
    "    average_clustering = []\n",
    "    num_cliques = []\n",
    "    transitivity = []\n",
    "    rich_club = []\n",
    "    for x in tqdm(range(n_trials)):\n",
    "        norm_g = subsample(orig,len(final))\n",
    "        #Betweenness\n",
    "        #betweenness.append(nx.betweenness_centrality(norm_g,weight='weight'))\n",
    "        #Average degree\n",
    "        average_degree.append(np.mean(norm_g.degree().values()))\n",
    "        #Diameter\n",
    "        giant = max(nx.connected_component_subgraphs(norm_g), key=len)\n",
    "        diameter.append(nx.diameter(giant))\n",
    "        #Modularity\n",
    "        #Connected components\n",
    "        #connected_components.append(nx.number_connected_components(norm_g))\n",
    "        #Average path length\n",
    "        #avg_shortest_path_len.append(nx.average_shortest_path_length(giant,weight='weight'))\n",
    "        #Degree assortativity\n",
    "        #edge_weights = nx.get_edge_attributes(norm_g,'weight')\n",
    "        #nx.set_edge_attributes( norm_g, 'weight', {key:int(val) for key,val in edge_weights.items()} )\n",
    "        #assortativity.append(nx.degree_assortativity_coefficient(norm_g,weight='weight'))\n",
    "        density.append(nx.density(norm_g))\n",
    "        average_clustering.append(nx.average_clustering(norm_g))\n",
    "        num_cliques.append(nx.graph_number_of_cliques(norm_g))\n",
    "        transitivity.append(nx.transitivity(norm_g))\n",
    "        rich_club.append(nx.rich_club_coefficient(norm_g))\n",
    "    return average_degree, diameter, density, average_clustering, num_cliques, transitivity, rich_club"
   ]
  },
  {
   "cell_type": "code",
   "execution_count": 65,
   "metadata": {},
   "outputs": [
    {
     "name": "stderr",
     "output_type": "stream",
     "text": [
      "100%|██████████| 500/500 [20:30<00:00,  2.24s/it]\n"
     ]
    }
   ],
   "source": [
    "#Distribution test\n",
    "average_degree, diameter, density, average_clustering, num_cliques, transitivity, rich_club = subsetTrials(networklist[1],networklist[2],n_trials=500)"
   ]
  },
  {
   "cell_type": "code",
   "execution_count": 36,
   "metadata": {
    "collapsed": true
   },
   "outputs": [],
   "source": [
    "from matplotlib import pyplot"
   ]
  },
  {
   "cell_type": "code",
   "execution_count": 71,
   "metadata": {},
   "outputs": [
    {
     "name": "stdout",
     "output_type": "stream",
     "text": [
      "6.8862877193\n"
     ]
    },
    {
     "data": {
      "image/png": "[encoded data removed]",
      "text/plain": [
       "<matplotlib.figure.Figure at 0x7fcf79ffb7d0>"
      ]
     },
     "metadata": {},
     "output_type": "display_data"
    },
    {
     "name": "stdout",
     "output_type": "stream",
     "text": [
      "8.99\n"
     ]
    },
    {
     "data": {
      "image/png": "[encoded data removed]",
      "text/plain": [
       "<matplotlib.figure.Figure at 0x7fcf9a373890>"
      ]
     },
     "metadata": {},
     "output_type": "display_data"
    },
    {
     "name": "stdout",
     "output_type": "stream",
     "text": [
      "0.012102438874\n"
     ]
    },
    {
     "data": {
      "image/png": "[encoded data removed]",
      "text/plain": [
       "<matplotlib.figure.Figure at 0x7fcf66925a50>"
      ]
     },
     "metadata": {},
     "output_type": "display_data"
    },
    {
     "name": "stdout",
     "output_type": "stream",
     "text": [
      "0.25766156223\n"
     ]
    },
    {
     "data": {
      "image/png": "[encoded data removed]",
      "text/plain": [
       "<matplotlib.figure.Figure at 0x7fcf7e960950>"
      ]
     },
     "metadata": {},
     "output_type": "display_data"
    },
    {
     "name": "stdout",
     "output_type": "stream",
     "text": [
      "1168.498\n"
     ]
    },
    {
     "data": {
      "image/png": "[encoded data removed]",
      "text/plain": [
       "<matplotlib.figure.Figure at 0x7fcf85051110>"
      ]
     },
     "metadata": {},
     "output_type": "display_data"
    },
    {
     "name": "stdout",
     "output_type": "stream",
     "text": [
      "0.236276715334\n"
     ]
    },
    {
     "data": {
      "image/png": "[encoded data removed]",
      "text/plain": [
       "<matplotlib.figure.Figure at 0x7fcf6490c250>"
      ]
     },
     "metadata": {},
     "output_type": "display_data"
    },
    {
     "ename": "TypeError",
     "evalue": "unsupported operand type(s) for +: 'dict' and 'dict'",
     "output_type": "error",
     "traceback": [
      "\u001b[0;31m---------------------------------------------------------------------------\u001b[0m",
      "\u001b[0;31mTypeError\u001b[0m                                 Traceback (most recent call last)",
      "\u001b[0;32m<ipython-input-71-f615da2ea95f>\u001b[0m in \u001b[0;36m<module>\u001b[0;34m()\u001b[0m\n\u001b[1;32m      1\u001b[0m \u001b[0;32mfor\u001b[0m \u001b[0mthing\u001b[0m \u001b[0;32min\u001b[0m \u001b[0;34m[\u001b[0m\u001b[0maverage_degree\u001b[0m\u001b[0;34m,\u001b[0m \u001b[0mdiameter\u001b[0m\u001b[0;34m,\u001b[0m \u001b[0mdensity\u001b[0m\u001b[0;34m,\u001b[0m \u001b[0maverage_clustering\u001b[0m\u001b[0;34m,\u001b[0m \u001b[0mnum_cliques\u001b[0m\u001b[0;34m,\u001b[0m \u001b[0mtransitivity\u001b[0m\u001b[0;34m,\u001b[0m \u001b[0mrich_club\u001b[0m\u001b[0;34m]\u001b[0m\u001b[0;34m:\u001b[0m\u001b[0;34m\u001b[0m\u001b[0m\n\u001b[0;32m----> 2\u001b[0;31m     \u001b[0;32mprint\u001b[0m \u001b[0mnp\u001b[0m\u001b[0;34m.\u001b[0m\u001b[0mmean\u001b[0m\u001b[0;34m(\u001b[0m\u001b[0mthing\u001b[0m\u001b[0;34m)\u001b[0m\u001b[0;34m\u001b[0m\u001b[0m\n\u001b[0m\u001b[1;32m      3\u001b[0m     \u001b[0mplt\u001b[0m\u001b[0;34m.\u001b[0m\u001b[0mhist\u001b[0m\u001b[0;34m(\u001b[0m\u001b[0mthing\u001b[0m\u001b[0;34m,\u001b[0m\u001b[0mbins\u001b[0m\u001b[0;34m=\u001b[0m\u001b[0;36m30\u001b[0m\u001b[0;34m)\u001b[0m\u001b[0;34m\u001b[0m\u001b[0m\n\u001b[1;32m      4\u001b[0m     \u001b[0mplt\u001b[0m\u001b[0;34m.\u001b[0m\u001b[0mshow\u001b[0m\u001b[0;34m(\u001b[0m\u001b[0;34m)\u001b[0m\u001b[0;34m\u001b[0m\u001b[0m\n",
      "\u001b[0;32m/home/vincent/.local/lib/python2.7/site-packages/numpy/core/fromnumeric.pyc\u001b[0m in \u001b[0;36mmean\u001b[0;34m(a, axis, dtype, out, keepdims)\u001b[0m\n\u001b[1;32m   2887\u001b[0m \u001b[0;34m\u001b[0m\u001b[0m\n\u001b[1;32m   2888\u001b[0m     return _methods._mean(a, axis=axis, dtype=dtype,\n\u001b[0;32m-> 2889\u001b[0;31m                           out=out, **kwargs)\n\u001b[0m\u001b[1;32m   2890\u001b[0m \u001b[0;34m\u001b[0m\u001b[0m\n\u001b[1;32m   2891\u001b[0m \u001b[0;34m\u001b[0m\u001b[0m\n",
      "\u001b[0;32m/home/vincent/.local/lib/python2.7/site-packages/numpy/core/_methods.pyc\u001b[0m in \u001b[0;36m_mean\u001b[0;34m(a, axis, dtype, out, keepdims)\u001b[0m\n\u001b[1;32m     68\u001b[0m             \u001b[0mis_float16_result\u001b[0m \u001b[0;34m=\u001b[0m \u001b[0mTrue\u001b[0m\u001b[0;34m\u001b[0m\u001b[0m\n\u001b[1;32m     69\u001b[0m \u001b[0;34m\u001b[0m\u001b[0m\n\u001b[0;32m---> 70\u001b[0;31m     \u001b[0mret\u001b[0m \u001b[0;34m=\u001b[0m \u001b[0mumr_sum\u001b[0m\u001b[0;34m(\u001b[0m\u001b[0marr\u001b[0m\u001b[0;34m,\u001b[0m \u001b[0maxis\u001b[0m\u001b[0;34m,\u001b[0m \u001b[0mdtype\u001b[0m\u001b[0;34m,\u001b[0m \u001b[0mout\u001b[0m\u001b[0;34m,\u001b[0m \u001b[0mkeepdims\u001b[0m\u001b[0;34m)\u001b[0m\u001b[0;34m\u001b[0m\u001b[0m\n\u001b[0m\u001b[1;32m     71\u001b[0m     \u001b[0;32mif\u001b[0m \u001b[0misinstance\u001b[0m\u001b[0;34m(\u001b[0m\u001b[0mret\u001b[0m\u001b[0;34m,\u001b[0m \u001b[0mmu\u001b[0m\u001b[0;34m.\u001b[0m\u001b[0mndarray\u001b[0m\u001b[0;34m)\u001b[0m\u001b[0;34m:\u001b[0m\u001b[0;34m\u001b[0m\u001b[0m\n\u001b[1;32m     72\u001b[0m         ret = um.true_divide(\n",
      "\u001b[0;31mTypeError\u001b[0m: unsupported operand type(s) for +: 'dict' and 'dict'"
     ]
    }
   ],
   "source": [
    "for thing in [average_degree, diameter, density, average_clustering, num_cliques, transitivity, rich_club]:\n",
    "    print np.mean(thing)\n",
    "    plt.hist(thing,bins=30)\n",
    "    plt.show()"
   ]
  },
  {
   "cell_type": "code",
   "execution_count": 38,
   "metadata": {
    "collapsed": true
   },
   "outputs": [],
   "source": [
    "#t test or whatever\n",
    "import scipy.stats as stats"
   ]
  },
  {
   "cell_type": "code",
   "execution_count": 67,
   "metadata": {
    "collapsed": true
   },
   "outputs": [],
   "source": [
    "#Average degree\n",
    "real_average_degree = np.mean(networklist[2].degree().values())\n",
    "#Diameter\n",
    "giant = max(nx.connected_component_subgraphs(networklist[2]), key=len)\n",
    "real_diameter = nx.diameter(giant)\n",
    "#Connected components\n",
    "real_connected_components = nx.number_connected_components(networklist[2])\n",
    "#Average shortest path length\n",
    "real_avg_shortest_path_len = nx.average_shortest_path_length(giant,weight='weight')\n",
    "#Degree assortativity\n",
    "real_edge_weights = nx.get_edge_attributes(networklist[2],'weight')\n",
    "nx.set_edge_attributes( networklist[2],'weight', {key:int(val) for key,val in real_edge_weights.items()} )\n",
    "real_assortativity = nx.degree_assortativity_coefficient(networklist[2],weight='weight')\n",
    "\n",
    "real_density = nx.density(networklist[2])\n",
    "real_average_clustering = nx.average_clustering(networklist[2])\n",
    "real_num_cliques = nx.graph_number_of_cliques(networklist[2])\n",
    "real_transitivity = nx.transitivity(networklist[2])\n",
    "#real_rich_club = nx.rich_club_coefficient(networklist[2])"
   ]
  },
  {
   "cell_type": "code",
   "execution_count": 47,
   "metadata": {},
   "outputs": [
    {
     "name": "stdout",
     "output_type": "stream",
     "text": [
      "6.57894736842\n",
      "8\n",
      "8.16816883422\n",
      "0.00462368229246\n"
     ]
    }
   ],
   "source": [
    "print real_average_degree\n",
    "print real_diameter\n",
    "print real_avg_shortest_path_len\n",
    "print real_assortativity"
   ]
  },
  {
   "cell_type": "code",
   "execution_count": 40,
   "metadata": {
    "collapsed": true
   },
   "outputs": [],
   "source": [
    "zscores_average_degree = stats.zscore([real_average_degree] + average_degree)\n",
    "zscores_diameter = stats.zscore([real_diameter] + diameter)\n",
    "zscores_connected_components = stats.zscore([real_connected_components] + connected_components)\n",
    "zscores_avg_path = stats.zscore([real_avg_shortest_path_len] + avg_shortest_path_len)\n",
    "zscores_assort = stats.zscore([real_assortativity] + assortativity)"
   ]
  },
  {
   "cell_type": "code",
   "execution_count": 41,
   "metadata": {},
   "outputs": [
    {
     "name": "stdout",
     "output_type": "stream",
     "text": [
      "-1.49287892904\n",
      "0.634099226919\n",
      "-5.81495966795\n",
      "8.36781179688\n",
      "6.96608968762\n"
     ]
    }
   ],
   "source": [
    "print(zscores_average_degree[0])\n",
    "print(zscores_diameter[0])\n",
    "print(zscores_connected_components[0])\n",
    "print(zscores_avg_path[0])\n",
    "print(zscores_assort[0])"
   ]
  },
  {
   "cell_type": "code",
   "execution_count": 42,
   "metadata": {},
   "outputs": [
    {
     "name": "stdout",
     "output_type": "stream",
     "text": [
      "Ks_2sampResult(statistic=0.93599999999999994, pvalue=0.1416676730662311)\n",
      "Ks_2sampResult(statistic=1.0, pvalue=0.097451698078349178)\n",
      "Ks_2sampResult(statistic=1.0, pvalue=0.097451698078349178)\n"
     ]
    }
   ],
   "source": [
    "print stats.ks_2samp(average_degree, [real_average_degree])\n",
    "#print stats.ks_2samp(diameter, [real_diameter]) <--Not valid because discrete\n",
    "#print stats.ks_2samp(connected_components, [real_connected_components]) <--Not valid because discrete\n",
    "print stats.ks_2samp(avg_shortest_path_len, [real_avg_shortest_path_len])\n",
    "print stats.ks_2samp(assortativity, [real_assortativity])"
   ]
  },
  {
   "cell_type": "markdown",
   "metadata": {},
   "source": [
    "split here"
   ]
  },
  {
   "cell_type": "code",
   "execution_count": 68,
   "metadata": {},
   "outputs": [
    {
     "name": "stdout",
     "output_type": "stream",
     "text": [
      "6.57894736842\n",
      "8\n",
      "0.0115622976598\n",
      "0.226451418678\n",
      "1051\n",
      "0.272801591411\n"
     ]
    }
   ],
   "source": [
    "print real_average_degree\n",
    "print real_diameter\n",
    "print real_density\n",
    "print real_average_clustering\n",
    "print real_num_cliques\n",
    "print real_transitivity\n",
    "#print real_rich_club"
   ]
  },
  {
   "cell_type": "code",
   "execution_count": 69,
   "metadata": {
    "collapsed": true
   },
   "outputs": [],
   "source": [
    "zscores_average_degree = stats.zscore([real_average_degree] + average_degree)\n",
    "zscores_diameter = stats.zscore([real_diameter] + diameter)\n",
    "zscores_density = stats.zscore([real_density] + density)\n",
    "zscores_average_clustering = stats.zscore([real_average_clustering] + average_clustering)\n",
    "zscores_num_cliques = stats.zscore([real_num_cliques] + num_cliques)\n",
    "zscores_transitivity = stats.zscore([real_transitivity] + transitivity)\n",
    "#zscores_rich_club = stats.zscore([real_rich_club] + rich_club)"
   ]
  },
  {
   "cell_type": "code",
   "execution_count": 70,
   "metadata": {},
   "outputs": [
    {
     "name": "stdout",
     "output_type": "stream",
     "text": [
      "-0.54935839706\n",
      "-1.03570991859\n",
      "-0.54935839706\n",
      "-1.38244168628\n",
      "-1.27927928409\n",
      "2.01505836999\n"
     ]
    }
   ],
   "source": [
    "print zscores_average_degree[0]\n",
    "print zscores_diameter[0]\n",
    "print zscores_density[0]\n",
    "print zscores_average_clustering[0]\n",
    "print zscores_num_cliques[0]\n",
    "print zscores_transitivity[0]\n",
    "#print zscores_rich_club[0]"
   ]
  },
  {
   "cell_type": "code",
   "execution_count": 59,
   "metadata": {},
   "outputs": [
    {
     "name": "stdout",
     "output_type": "stream",
     "text": [
      "Ks_2sampResult(statistic=0.93199999999999994, pvalue=0.14489874205381176)\n",
      "Ks_2sampResult(statistic=0.5, pvalue=0.84444254262661533)\n",
      "Ks_2sampResult(statistic=0.93199999999999994, pvalue=0.14489874205381176)\n",
      "Ks_2sampResult(statistic=0.88400000000000001, pvalue=0.1884718473445251)\n",
      "Ks_2sampResult(statistic=0.998, pvalue=0.098635004684842473)\n",
      "Ks_2sampResult(statistic=1.0, pvalue=0.097451698078349178)\n"
     ]
    }
   ],
   "source": [
    "print stats.ks_2samp(average_degree, [real_average_degree])\n",
    "print stats.ks_2samp(diameter, [real_diameter])\n",
    "print stats.ks_2samp(density, [real_density])\n",
    "print stats.ks_2samp(average_clustering, [real_average_clustering])\n",
    "print stats.ks_2samp(num_cliques, [real_num_cliques])\n",
    "print stats.ks_2samp(transitivity, [real_transitivity])\n",
    "#print stats.ks_2samp(rich_club, [real_rich_club])"
   ]
  }
 ],
 "metadata": {
  "kernelspec": {
   "display_name": "Python 2",
   "language": "python",
   "name": "python2"
  },
  "language_info": {
   "codemirror_mode": {
    "name": "ipython",
    "version": 2
   },
   "file_extension": ".py",
   "mimetype": "text/x-python",
   "name": "python",
   "nbconvert_exporter": "python",
   "pygments_lexer": "ipython2",
   "version": "2.7.12"
  }
 },
 "nbformat": 4,
 "nbformat_minor": 2
}
