{
 "cells": [
  {
   "cell_type": "code",
   "execution_count": 57,
   "metadata": {
    "collapsed": true
   },
   "outputs": [],
   "source": [
    "import pickle\n",
    "import networkx as nx\n",
    "import numpy as np\n",
    "from matplotlib import pyplot as plt\n",
    "from tqdm import tqdm\n",
    "from collections import Counter\n",
    "from itertools import combinations\n",
    "import community\n",
    "import pandas as pd\n",
    "import os\n",
    "import bz2\n",
    "import json\n",
    "from random import sample\n",
    "import scipy.stats as stats\n",
    "\n",
    "from collections import defaultdict\n",
    "from hungarian import Hungarian"
   ]
  },
  {
   "cell_type": "code",
   "execution_count": 2,
   "metadata": {
    "collapsed": true
   },
   "outputs": [],
   "source": [
    "filenamevar = 'excl'"
   ]
  },
  {
   "cell_type": "code",
   "execution_count": 5,
   "metadata": {
    "collapsed": true
   },
   "outputs": [],
   "source": [
    "networklist = [nx.read_gexf('EoBoR_%i_%s.gexf'%(i,filenamevar)) for i in range(4)]\n",
    "usersets = [set(x.nodes()) for x in networklist]"
   ]
  },
  {
   "cell_type": "code",
   "execution_count": 74,
   "metadata": {},
   "outputs": [
    {
     "data": {
      "text/plain": [
       "[3972, 4228, 1875, 1590]"
      ]
     },
     "execution_count": 74,
     "metadata": {},
     "output_type": "execute_result"
    }
   ],
   "source": [
    "[nx.number_of_edges(x) for x in networklist]"
   ]
  },
  {
   "cell_type": "markdown",
   "metadata": {},
   "source": [
    "### Testing Jaccard distance"
   ]
  },
  {
   "cell_type": "code",
   "execution_count": 24,
   "metadata": {
    "collapsed": true
   },
   "outputs": [],
   "source": [
    "def jaccardDistro(network1,network2):\n",
    "    partitions1 = community.best_partition(network1)\n",
    "    partitions2 = community.best_partition(network2)\n",
    "    \n",
    "    cost_matrix = np.ones( (len(set(partitions1.values())),len(set(partitions2.values()))) )\n",
    "    \n",
    "    partitions1_transpose = defaultdict(list)\n",
    "    for k,v in partitions1.items():\n",
    "        partitions1_transpose[v].append(k)\n",
    "    partitions1_transpose = dict(partitions1_transpose)\n",
    "    partitions2_transpose = defaultdict(list)\n",
    "    for k,v in partitions2.items():\n",
    "        partitions2_transpose[v].append(k)\n",
    "    partitions2_transpose = dict(partitions2_transpose)\n",
    "    \n",
    "    for thing1 in set(partitions1.values()):\n",
    "        for thing2 in set(partitions2.values()):\n",
    "            #1 - jaccard similarity = jaccard distance\n",
    "            cost_matrix[thing1,thing2] -= float( len(set(partitions1_transpose[thing1])&set(partitions2_transpose[thing2])))/len(set(partitions1_transpose[thing1])|set(partitions2_transpose[thing2]))\n",
    "    \n",
    "    hungarian = Hungarian(cost_matrix)\n",
    "    hungarian.calculate()\n",
    "    return hungarian"
   ]
  },
  {
   "cell_type": "code",
   "execution_count": 38,
   "metadata": {
    "collapsed": true
   },
   "outputs": [],
   "source": [
    "test = jaccardDistro(networklist[2],networklist[1])"
   ]
  },
  {
   "cell_type": "code",
   "execution_count": 39,
   "metadata": {},
   "outputs": [
    {
     "data": {
      "text/plain": [
       "[(2, 6),\n",
       " (4, 2),\n",
       " (5, 3),\n",
       " (6, 7),\n",
       " (7, 9),\n",
       " (8, 1),\n",
       " (11, 13),\n",
       " (13, 14),\n",
       " (1, 0),\n",
       " (14, 11),\n",
       " (3, 12),\n",
       " (0, 4),\n",
       " (9, 5),\n",
       " (10, 8),\n",
       " (12, 10),\n",
       " (15, 15),\n",
       " (16, 16),\n",
       " (17, 17),\n",
       " (18, 18),\n",
       " (19, 19),\n",
       " (20, 20),\n",
       " (21, 21),\n",
       " (22, 22)]"
      ]
     },
     "execution_count": 39,
     "metadata": {},
     "output_type": "execute_result"
    }
   ],
   "source": [
    "test.get_results()"
   ]
  },
  {
   "cell_type": "code",
   "execution_count": 40,
   "metadata": {},
   "outputs": [
    {
     "data": {
      "text/plain": [
       "20.533403368456383"
      ]
     },
     "execution_count": 40,
     "metadata": {},
     "output_type": "execute_result"
    }
   ],
   "source": [
    "test.get_total_potential()"
   ]
  },
  {
   "cell_type": "markdown",
   "metadata": {},
   "source": [
    "### Doing trials"
   ]
  },
  {
   "cell_type": "code",
   "execution_count": 48,
   "metadata": {
    "collapsed": true
   },
   "outputs": [],
   "source": [
    "def subsample(g,trim_num):\n",
    "    if len(g)<=trim_num:\n",
    "        raise ValueError('Subgraph parameters are larger than the original graph.')\n",
    "    a = g.copy()\n",
    "    random_nodes = sample(a.nodes(),len(a)-trim_num)\n",
    "    a.remove_nodes_from(random_nodes)\n",
    "    return a\n",
    "\n",
    "def subsetTrials(orig,final,n_trials=100):\n",
    "    betweenness = []; average_degree = []; diameter = []; avg_shortest_path_len = []; assortativity = []; density = []; average_clustering = []; num_cliques = []; transitivity = []; rich_club = []\n",
    "    hungar_jaccard = []\n",
    "    for x in tqdm(range(n_trials)):\n",
    "        norm_g = subsample(orig,len(final))\n",
    "        #Betweenness\n",
    "        #betweenness.append(nx.betweenness_centrality(norm_g,weight='weight'))\n",
    "        #Average degree\n",
    "        average_degree.append(np.mean(norm_g.degree().values()))\n",
    "        #Diameter\n",
    "        giant = max(nx.connected_component_subgraphs(norm_g), key=len)\n",
    "        diameter.append(nx.diameter(giant))\n",
    "        #Average path length\n",
    "        avg_shortest_path_len.append(nx.average_shortest_path_length(giant,weight='weight'))\n",
    "        #Degree assortativity\n",
    "        edge_weights = nx.get_edge_attributes(norm_g,'weight')\n",
    "        nx.set_edge_attributes( norm_g, 'weight', {key:int(val) for key,val in edge_weights.items()} )\n",
    "        assortativity.append(nx.degree_assortativity_coefficient(norm_g,weight='weight'))\n",
    "        density.append(nx.density(norm_g))\n",
    "        average_clustering.append(nx.average_clustering(norm_g))\n",
    "        num_cliques.append(nx.graph_number_of_cliques(norm_g))\n",
    "        transitivity.append(nx.transitivity(norm_g))\n",
    "        #rich_club.append(nx.rich_club_coefficient(norm_g))\n",
    "        hungar_jaccard.append(jaccardDistro(orig,norm_g).get_total_potential())\n",
    "    return average_degree, diameter, avg_shortest_path_len, assortativity, density, average_clustering, num_cliques, transitivity, hungar_jaccard"
   ]
  },
  {
   "cell_type": "code",
   "execution_count": 49,
   "metadata": {},
   "outputs": [
    {
     "name": "stderr",
     "output_type": "stream",
     "text": [
      "100%|██████████| 500/500 [19:45<00:00,  2.03s/it]\n"
     ]
    }
   ],
   "source": [
    "average_degree, diameter, avg_shortest_path_len, assortativity, density, average_clustering, num_cliques, transitivity, hungar_jaccard = subsetTrials(networklist[1],networklist[2],n_trials=500)"
   ]
  },
  {
   "cell_type": "code",
   "execution_count": 50,
   "metadata": {},
   "outputs": [
    {
     "name": "stdout",
     "output_type": "stream",
     "text": [
      "6.91018947368\n"
     ]
    },
    {
     "data": {
      "image/png": "[encoded data removed]",
      "text/plain": [
       "<matplotlib.figure.Figure at 0x7f7db6d03f50>"
      ]
     },
     "metadata": {},
     "output_type": "display_data"
    },
    {
     "name": "stdout",
     "output_type": "stream",
     "text": [
      "9.012\n"
     ]
    },
    {
     "data": {
      "image/png": "[encoded data removed]",
      "text/plain": [
       "<matplotlib.figure.Figure at 0x7f7db4203f50>"
      ]
     },
     "metadata": {},
     "output_type": "display_data"
    },
    {
     "name": "stdout",
     "output_type": "stream",
     "text": [
      "7.56403959752\n"
     ]
    },
    {
     "data": {
      "image/png": "[encoded data removed]",
      "text/plain": [
       "<matplotlib.figure.Figure at 0x7f7db4092150>"
      ]
     },
     "metadata": {},
     "output_type": "display_data"
    },
    {
     "name": "stdout",
     "output_type": "stream",
     "text": [
      "-0.113439292262\n"
     ]
    },
    {
     "data": {
      "image/png": "[encoded data removed]",
      "text/plain": [
       "<matplotlib.figure.Figure at 0x7f7db4227250>"
      ]
     },
     "metadata": {},
     "output_type": "display_data"
    },
    {
     "name": "stdout",
     "output_type": "stream",
     "text": [
      "0.0121444454722\n"
     ]
    },
    {
     "data": {
      "image/png": "[encoded data removed]",
      "text/plain": [
       "<matplotlib.figure.Figure at 0x7f7db434ae90>"
      ]
     },
     "metadata": {},
     "output_type": "display_data"
    },
    {
     "name": "stdout",
     "output_type": "stream",
     "text": [
      "0.258313825412\n"
     ]
    },
    {
     "data": {
      "image/png": "[encoded data removed]",
      "text/plain": [
       "<matplotlib.figure.Figure at 0x7f7db646ef90>"
      ]
     },
     "metadata": {},
     "output_type": "display_data"
    },
    {
     "name": "stdout",
     "output_type": "stream",
     "text": [
      "1171.404\n"
     ]
    },
    {
     "data": {
      "image/png": "[encoded data removed]",
      "text/plain": [
       "<matplotlib.figure.Figure at 0x7f7dacfc1210>"
      ]
     },
     "metadata": {},
     "output_type": "display_data"
    },
    {
     "name": "stdout",
     "output_type": "stream",
     "text": [
      "0.238561598111\n"
     ]
    },
    {
     "data": {
      "image/png": "[encoded data removed]",
      "text/plain": [
       "<matplotlib.figure.Figure at 0x7f7db40bbf90>"
      ]
     },
     "metadata": {},
     "output_type": "display_data"
    },
    {
     "name": "stdout",
     "output_type": "stream",
     "text": [
      "11.0309260155\n"
     ]
    },
    {
     "data": {
      "image/png": "[encoded data removed]",
      "text/plain": [
       "<matplotlib.figure.Figure at 0x7f7db41e6f90>"
      ]
     },
     "metadata": {},
     "output_type": "display_data"
    }
   ],
   "source": [
    "for thing in [average_degree, diameter, avg_shortest_path_len, assortativity, density, average_clustering, num_cliques, transitivity, hungar_jaccard]:\n",
    "    print np.mean(thing)\n",
    "    plt.hist(thing,bins=30)\n",
    "    plt.show()"
   ]
  },
  {
   "cell_type": "code",
   "execution_count": 55,
   "metadata": {
    "collapsed": true
   },
   "outputs": [],
   "source": [
    "real_average_degree = np.mean(networklist[2].degree().values())\n",
    "#Diameter\n",
    "giant = max(nx.connected_component_subgraphs(networklist[2]), key=len)\n",
    "real_diameter = nx.diameter(giant)\n",
    "#Average path length\n",
    "real_avg_shortest_path_len = nx.average_shortest_path_length(giant,weight='weight')\n",
    "#Degree assortativity\n",
    "edge_weights = nx.get_edge_attributes(networklist[2],'weight')\n",
    "nx.set_edge_attributes( networklist[2], 'weight', {key:int(val) for key,val in edge_weights.items()} )\n",
    "real_assortativity = nx.degree_assortativity_coefficient(networklist[2],weight='weight')\n",
    "real_density = nx.density(networklist[2])\n",
    "real_average_clustering = nx.average_clustering(networklist[2])\n",
    "real_num_cliques = nx.graph_number_of_cliques(networklist[2])\n",
    "real_transitivity = nx.transitivity(networklist[2])\n",
    "real_hungar_jaccard = jaccardDistro(networklist[1],networklist[2]).get_total_potential()"
   ]
  },
  {
   "cell_type": "code",
   "execution_count": 69,
   "metadata": {
    "collapsed": true
   },
   "outputs": [],
   "source": [
    "def zscoring(data,val):\n",
    "    zscore = stats.zscore([val] + data)\n",
    "    return zscore\n",
    "\n",
    "def kolmogorovSmirnoving(data,val):\n",
    "    result = stats.ks_2samp(data, [val])\n",
    "    return result\n",
    "\n",
    "def pvaluing(zscore):\n",
    "    p_values = stats.norm.sf(abs(zscore))*2\n",
    "    return p_values"
   ]
  },
  {
   "cell_type": "code",
   "execution_count": 59,
   "metadata": {
    "collapsed": true
   },
   "outputs": [],
   "source": [
    "null_statistics = [average_degree, diameter, avg_shortest_path_len, assortativity, density, average_clustering, num_cliques, transitivity, hungar_jaccard]\n",
    "real_values = [real_average_degree,real_diameter,real_avg_shortest_path_len,real_assortativity,real_density,real_average_clustering,real_num_cliques,real_transitivity,real_hungar_jaccard]"
   ]
  },
  {
   "cell_type": "markdown",
   "metadata": {},
   "source": [
    "| value                 |\n",
    "|-----------------------|\n",
    "| average_degree        |\n",
    "| diameter              |\n",
    "| avg_shortest_path_len |\n",
    "| assortativity         |\n",
    "| density               |\n",
    "| average_clustering    |\n",
    "| num_cliques           |\n",
    "| transitivity          |\n",
    "| hungar_jaccard        |"
   ]
  },
  {
   "cell_type": "code",
   "execution_count": 76,
   "metadata": {},
   "outputs": [
    {
     "data": {
      "text/plain": [
       "[6.5789473684210522,\n",
       " 8,\n",
       " 8.16816883422388,\n",
       " 0.0046236822924647352,\n",
       " 0.011562297659790954,\n",
       " 0.22645141867774762,\n",
       " 1051,\n",
       " 0.272801591410742,\n",
       " 20.533403368456383]"
      ]
     },
     "execution_count": 76,
     "metadata": {},
     "output_type": "execute_result"
    }
   ],
   "source": [
    "real_values"
   ]
  },
  {
   "cell_type": "code",
   "execution_count": 77,
   "metadata": {},
   "outputs": [
    {
     "name": "stdout",
     "output_type": "stream",
     "text": [
      "-0.632213548674\n",
      "-1.00602187169\n",
      "3.25598233334\n",
      "3.00823078154\n",
      "-0.632213548674\n",
      "-1.6072436739\n",
      "-1.32192512511\n",
      "2.02914338185\n",
      "7.51184433438\n"
     ]
    }
   ],
   "source": [
    "for n,r in zip(null_statistics,real_values):\n",
    "    print zscoring(n,r)[0]"
   ]
  },
  {
   "cell_type": "code",
   "execution_count": 64,
   "metadata": {},
   "outputs": [
    {
     "name": "stdout",
     "output_type": "stream",
     "text": [
      "Ks_2sampResult(statistic=0.73799999999999999, pvalue=0.38302390550080939)\n",
      "Ks_2sampResult(statistic=0.67599999999999993, pvalue=0.49481388711348895)\n",
      "Ks_2sampResult(statistic=0.998, pvalue=0.098635004684842473)\n",
      "Ks_2sampResult(statistic=0.998, pvalue=0.098635004684842473)\n",
      "Ks_2sampResult(statistic=0.73799999999999999, pvalue=0.38302390550080939)\n",
      "Ks_2sampResult(statistic=0.93199999999999994, pvalue=0.14489874205381176)\n",
      "Ks_2sampResult(statistic=0.91400000000000003, pvalue=0.16017987031411579)\n",
      "Ks_2sampResult(statistic=0.97399999999999998, pvalue=0.11379062726590453)\n",
      "Ks_2sampResult(statistic=1.0, pvalue=0.097451698078349178)\n"
     ]
    }
   ],
   "source": [
    "for n,r in zip(null_statistics, real_values):\n",
    "    print kolmogorovSmirnoving(n,r)"
   ]
  },
  {
   "cell_type": "markdown",
   "metadata": {},
   "source": [
    "### Now figure out where people diverted to"
   ]
  }
 ],
 "metadata": {
  "kernelspec": {
   "display_name": "Python 2",
   "language": "python",
   "name": "python2"
  },
  "language_info": {
   "codemirror_mode": {
    "name": "ipython",
    "version": 2
   },
   "file_extension": ".py",
   "mimetype": "text/x-python",
   "name": "python",
   "nbconvert_exporter": "python",
   "pygments_lexer": "ipython2",
   "version": "2.7.12"
  }
 },
 "nbformat": 4,
 "nbformat_minor": 2
}
