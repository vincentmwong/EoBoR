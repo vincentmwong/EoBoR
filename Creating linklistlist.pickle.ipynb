{
 "cells": [
  {
   "cell_type": "markdown",
   "metadata": {},
   "source": [
    "# Sifting out reddit data"
   ]
  },
  {
   "cell_type": "code",
   "execution_count": 1,
   "metadata": {
    "collapsed": true
   },
   "outputs": [],
   "source": [
    "from matplotlib import pyplot\n",
    "import numpy\n",
    "from tqdm import tqdm\n",
    "import os\n",
    "import json\n",
    "import bz2\n",
    "from collections import Counter\n",
    "from datetime import datetime\n",
    "import pickle"
   ]
  },
  {
   "cell_type": "code",
   "execution_count": 2,
   "metadata": {
    "collapsed": true
   },
   "outputs": [],
   "source": [
    "subreddits_months_folder = \"Sorted Reddits/\"    #Contains folders of bz2 files of posts in sub for that month\n",
    "user_posts_folder = \"User Posts/\"               #Contains folders of bz2 files of posts by user for that month\n",
    "list_of_banned_subs = [\"altright\"]\n",
    "ban_date = datetime(2017,2,1)"
   ]
  },
  {
   "cell_type": "code",
   "execution_count": null,
   "metadata": {
    "collapsed": true
   },
   "outputs": [],
   "source": [
    "#Get posts in a subreddit\n",
    "#For file in data by month\n",
    "    #Scrape out all the posts from a subreddit\n",
    "    #Print those out to a file (in-sub 4 mo)"
   ]
  },
  {
   "cell_type": "code",
   "execution_count": null,
   "metadata": {
    "collapsed": true
   },
   "outputs": [],
   "source": [
    "#Get users in posts and their posts\n",
    "userlist = {} #set()\n",
    "for fol in tqdm(os.listdir(\"reddit_data/\"+subreddits_months_folder)):\n",
    "    userlist[fol] = {}\n",
    "    for filename in tqdm(os.listdir(\"reddit_data/\"+subreddits_months_folder+fol+\"/\")):\n",
    "        if \"altright\" not in filename:\n",
    "            pass\n",
    "        userlist[fol][filename] = set()\n",
    "        with bz2.BZ2File(\"reddit_data/\"+subreddits_months_folder+fol+\"/\"+filename, 'rb') as f:\n",
    "            #Parse user lists by subs? Focus on one sub right now\n",
    "            for line in f:\n",
    "                doc = json.loads(line)\n",
    "                userlist[fol][filename].add(doc['author'])"
   ]
  },
  {
   "cell_type": "code",
   "execution_count": 3,
   "metadata": {},
   "outputs": [
    {
     "name": "stderr",
     "output_type": "stream",
     "text": [
      "35061it [00:02, 16613.86it/s]\n"
     ]
    }
   ],
   "source": [
    "userlist = set()\n",
    "with bz2.BZ2File(\"reddit_data/altright_2017-01.bz2\",'rb') as f:\n",
    "    for line in tqdm(f):\n",
    "        doc = json.loads(line)\n",
    "        userlist.add(doc['author'])"
   ]
  },
  {
   "cell_type": "code",
   "execution_count": 4,
   "metadata": {},
   "outputs": [
    {
     "data": {
      "text/plain": [
       "2463"
      ]
     },
     "execution_count": 4,
     "metadata": {},
     "output_type": "execute_result"
    }
   ],
   "source": [
    "len(userlist)"
   ]
  },
  {
   "cell_type": "code",
   "execution_count": 6,
   "metadata": {
    "collapsed": true
   },
   "outputs": [],
   "source": [
    "#Construct master userlist\n",
    "#userlist_tot = set.union(*[userlist[bigkey][littlekey] for bigkey in userlist for littlekey in userlist[bigkey]])\n",
    "userlist_tot = userlist"
   ]
  },
  {
   "cell_type": "code",
   "execution_count": 3,
   "metadata": {},
   "outputs": [
    {
     "name": "stderr",
     "output_type": "stream",
     "text": [
      "\r",
      "0it [00:00, ?it/s]"
     ]
    },
    {
     "name": "stdout",
     "output_type": "stream",
     "text": [
      "RC_2017-03.bz2\n",
      "{u'body': u'No more than two shots of vodka, and two glasses of wine.', u'gilded': 0, u'subreddit_id': u't5_2qh1i', u'author_flair_css_class': None, u'stickied': False, u'edited': False, u'author_flair_text': None, u'author': u'FragmentedFighter', u'created_utc': 1488326400, u'subreddit': u'AskReddit', u'parent_id': u't3_5wo1ht', u'distinguished': None, u'score': 1, u'retrieved_on': 1489223607, u'id': u'decf2jd', u'link_id': u't3_5wo1ht', u'controversiality': 0}\n"
     ]
    },
    {
     "name": "stderr",
     "output_type": "stream",
     "text": [
      "\n"
     ]
    },
    {
     "ename": "ValueError",
     "evalue": "early termination",
     "output_type": "error",
     "traceback": [
      "\u001b[0;31m---------------------------------------------------------------------------\u001b[0m",
      "\u001b[0;31mValueError\u001b[0m                                Traceback (most recent call last)",
      "\u001b[0;32m<ipython-input-3-bce7a614a2e6>\u001b[0m in \u001b[0;36m<module>\u001b[0;34m()\u001b[0m\n\u001b[1;32m      9\u001b[0m             \u001b[0mdoc\u001b[0m \u001b[0;34m=\u001b[0m \u001b[0mjson\u001b[0m\u001b[0;34m.\u001b[0m\u001b[0mloads\u001b[0m\u001b[0;34m(\u001b[0m\u001b[0mline\u001b[0m\u001b[0;34m)\u001b[0m\u001b[0;34m\u001b[0m\u001b[0m\n\u001b[1;32m     10\u001b[0m             \u001b[0;32mprint\u001b[0m \u001b[0mdoc\u001b[0m\u001b[0;34m\u001b[0m\u001b[0m\n\u001b[0;32m---> 11\u001b[0;31m             \u001b[0;32mraise\u001b[0m \u001b[0mValueError\u001b[0m\u001b[0;34m(\u001b[0m\u001b[0;34m'early termination'\u001b[0m\u001b[0;34m)\u001b[0m\u001b[0;34m\u001b[0m\u001b[0m\n\u001b[0m\u001b[1;32m     12\u001b[0m             \u001b[0;32mif\u001b[0m \u001b[0mdoc\u001b[0m\u001b[0;34m[\u001b[0m\u001b[0;34m'author'\u001b[0m\u001b[0;34m]\u001b[0m \u001b[0;32min\u001b[0m \u001b[0muserlist_tot\u001b[0m \u001b[0;32mand\u001b[0m \u001b[0mdoc\u001b[0m\u001b[0;34m[\u001b[0m\u001b[0;34m'author'\u001b[0m\u001b[0;34m]\u001b[0m\u001b[0;34m!=\u001b[0m\u001b[0;34m'[deleted]'\u001b[0m\u001b[0;34m:\u001b[0m \u001b[0;31m#and datetime.fromtimestamp(doc['created_utc']) >= ban_date\u001b[0m\u001b[0;34m\u001b[0m\u001b[0m\n\u001b[1;32m     13\u001b[0m                 \u001b[0;32mif\u001b[0m \u001b[0mdoc\u001b[0m\u001b[0;34m[\u001b[0m\u001b[0;34m'parent_id'\u001b[0m\u001b[0;34m]\u001b[0m \u001b[0;32mnot\u001b[0m \u001b[0;32min\u001b[0m \u001b[0mlinklist\u001b[0m\u001b[0;34m:\u001b[0m\u001b[0;34m\u001b[0m\u001b[0m\n",
      "\u001b[0;31mValueError\u001b[0m: early termination"
     ]
    }
   ],
   "source": [
    "linklistlist = []\n",
    "\n",
    "#Pull user data based on subreddit\n",
    "for filename in os.listdir(\"reddit_data/reddit_bzs/\"):\n",
    "    print filename\n",
    "    linklist = {} #Dictionary of parents: sets of users to that parent\n",
    "    with bz2.BZ2File(\"reddit_data/reddit_bzs/\"+filename,'rb') as f:\n",
    "        for line in tqdm(f):\n",
    "            doc = json.loads(line)\n",
    "            print doc\n",
    "            raise ValueError('early termination')\n",
    "            if doc['author'] in userlist_tot and doc['author']!='[deleted]': #and datetime.fromtimestamp(doc['created_utc']) >= ban_date \n",
    "                if doc['parent_id'] not in linklist:\n",
    "                    linklist[doc['parent_id']] = Counter()\n",
    "                linklist[doc['parent_id']].update({doc['author']: 1})\n",
    "    linklistlist.append(linklist)"
   ]
  },
  {
   "cell_type": "code",
   "execution_count": 9,
   "metadata": {
    "collapsed": true
   },
   "outputs": [],
   "source": [
    "with open(\"EoBoR_Mar_linklist.pickle\",'w') as f:\n",
    "    pickle.dump(linklist,f)"
   ]
  },
  {
   "cell_type": "code",
   "execution_count": 24,
   "metadata": {
    "collapsed": true
   },
   "outputs": [],
   "source": [
    "#Fixing something\n",
    "with open(\"EoBoR_linklistlist_exl.pickle\",'r') as f:\n",
    "    linklistlist = pickle.load(f)"
   ]
  },
  {
   "cell_type": "code",
   "execution_count": 25,
   "metadata": {},
   "outputs": [
    {
     "name": "stdout",
     "output_type": "stream",
     "text": [
      "263470\n",
      "212469\n",
      "213106\n"
     ]
    }
   ],
   "source": [
    "for thing in linklistlist:\n",
    "    print len(thing)"
   ]
  },
  {
   "cell_type": "code",
   "execution_count": 26,
   "metadata": {
    "collapsed": true
   },
   "outputs": [],
   "source": [
    "linklistlist.append(linklist)"
   ]
  },
  {
   "cell_type": "code",
   "execution_count": 27,
   "metadata": {
    "collapsed": true
   },
   "outputs": [],
   "source": [
    "linklistlist2 = [linklistlist[2],linklistlist[0],linklistlist[1],linklistlist[3]]"
   ]
  },
  {
   "cell_type": "code",
   "execution_count": 28,
   "metadata": {},
   "outputs": [
    {
     "name": "stdout",
     "output_type": "stream",
     "text": [
      "213106\n",
      "263470\n",
      "212469\n",
      "207316\n"
     ]
    }
   ],
   "source": [
    "for thing in linklistlist2:\n",
    "    print len(thing)"
   ]
  },
  {
   "cell_type": "code",
   "execution_count": 29,
   "metadata": {
    "collapsed": true
   },
   "outputs": [],
   "source": [
    "#outputting linklist\n",
    "with open(\"EoBoR_linklistlist_exl.pickle\",'w') as f:\n",
    "    pickle.dump(linklistlist2,f)\n",
    "    \n",
    "#The order is 2017-01, 2017-02, 2016-12"
   ]
  },
  {
   "cell_type": "code",
   "execution_count": null,
   "metadata": {
    "collapsed": true
   },
   "outputs": [],
   "source": [
    "#Creating the same thing but excluding the subreddit in question\n",
    "linklistlist = []\n",
    "\n",
    "#Pull user data based on subreddit\n",
    "for filename in os.listdir(\"reddit_data/reddit_bzs/\"):\n",
    "    print filename\n",
    "    linklist = {} #Dictionary of parents: sets of users to that parent\n",
    "    with bz2.BZ2File(\"reddit_data/reddit_bzs/\"+filename,'rb') as f:\n",
    "        for line in tqdm(f):\n",
    "            doc = json.loads(line)\n",
    "            if doc['author'] in userlist_tot and doc['author']!='[deleted]' and doc['subreddit']!='altright': #and datetime.fromtimestamp(doc['created_utc']) >= ban_date \n",
    "                if doc['parent_id'] not in linklist:\n",
    "                    linklist[doc['parent_id']] = Counter()\n",
    "                linklist[doc['parent_id']].update({doc['author']: 1})\n",
    "    linklistlist.append(linklist)"
   ]
  },
  {
   "cell_type": "code",
   "execution_count": 17,
   "metadata": {},
   "outputs": [
    {
     "name": "stderr",
     "output_type": "stream",
     "text": [
      "79723106it [38:51, 34198.74it/s]\n"
     ]
    }
   ],
   "source": [
    "linklist = {}\n",
    "with bz2.BZ2File(\"reddit_data/reddit_bzs/RC_2017-03.bz2\") as f:\n",
    "    for line in tqdm(f):\n",
    "        doc = json.loads(line)\n",
    "        if doc['author'] in userlist_tot and doc['author']!='[deleted]' and doc['subreddit']!='altright': #and datetime.fromtimestamp(doc['created_utc']) >= ban_date \n",
    "            if doc['parent_id'] not in linklist:\n",
    "                linklist[doc['parent_id']] = Counter()\n",
    "            linklist[doc['parent_id']].update({doc['author']: 1})"
   ]
  },
  {
   "cell_type": "code",
   "execution_count": null,
   "metadata": {
    "collapsed": true
   },
   "outputs": [],
   "source": [
    "with open(\"EoBoR_linklistlist_exl.pickle\",'w') as f:\n",
    "    pickle.dump(linklistlist,f)"
   ]
  },
  {
   "cell_type": "markdown",
   "metadata": {},
   "source": [
    "# Finding ban-point"
   ]
  },
  {
   "cell_type": "code",
   "execution_count": null,
   "metadata": {
    "collapsed": true
   },
   "outputs": [],
   "source": [
    "#For file in [in-sub 4 mo]\n",
    "    #Keep track of the last date that a post appeared\n",
    "    #Add it to the list"
   ]
  },
  {
   "cell_type": "markdown",
   "metadata": {},
   "source": [
    "# TEST THINGS BELOW"
   ]
  },
  {
   "cell_type": "code",
   "execution_count": null,
   "metadata": {
    "collapsed": true
   },
   "outputs": [],
   "source": [
    "with bz2.BZ2File(\"reddit_data/Sorted Reddits/RC_2017-01/4chan_2017-01.bz2\",'rb') as f:\n",
    "    count = 0\n",
    "    for line in f:\n",
    "        doc = json.loads(line)\n",
    "        print doc['author']\n",
    "        count += 1\n",
    "        if count>10:\n",
    "            break"
   ]
  },
  {
   "cell_type": "code",
   "execution_count": null,
   "metadata": {
    "collapsed": true
   },
   "outputs": [],
   "source": [
    "datetime.fromtimestamp(doc['created_utc'])"
   ]
  }
 ],
 "metadata": {
  "kernelspec": {
   "display_name": "Python 2",
   "language": "python",
   "name": "python2"
  },
  "language_info": {
   "codemirror_mode": {
    "name": "ipython",
    "version": 2
   },
   "file_extension": ".py",
   "mimetype": "text/x-python",
   "name": "python",
   "nbconvert_exporter": "python",
   "pygments_lexer": "ipython2",
   "version": "2.7.12"
  }
 },
 "nbformat": 4,
 "nbformat_minor": 2
}
